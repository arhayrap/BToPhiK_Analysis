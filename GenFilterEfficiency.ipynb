{
 "cells": [
  {
   "cell_type": "code",
   "execution_count": 1,
   "id": "c2603291-1a94-439d-acc8-16b56b9d1d65",
   "metadata": {},
   "outputs": [
    {
     "name": "stdout",
     "output_type": "stream",
     "text": [
      "Welcome to JupyROOT 6.24/06\n"
     ]
    },
    {
     "name": "stderr",
     "output_type": "stream",
     "text": [
      "/uscms_data/d3/ahayrape/mamba/envs/anal/lib/python3.9/site-packages/numba/core/cpu.py:97: UserWarning: Numba extension module 'awkward.numba' failed to load due to 'FileNotFoundError([Errno 2] No such file or directory: '/uscms_data/d3/ahayrape/mamba/envs/anal/lib/python3.9/site-packages/numpy-1.23.2.dist-info/METADATA')'.\n",
      "  numba.core.entrypoints.init_all()\n"
     ]
    }
   ],
   "source": [
    "from Parameters import *"
   ]
  },
  {
   "cell_type": "code",
   "execution_count": 56,
   "id": "09a2ab96-2c24-4383-b663-75eefe8dedaf",
   "metadata": {},
   "outputs": [
    {
     "name": "stdout",
     "output_type": "stream",
     "text": [
      "PhiToPiPlusPiMinus_mPhi0p3_ctau1000\n",
      "PhiToPiPlusPiMinus_mPhi0p3_ctau300\n",
      "PhiToPi0Pi0_mPhi0p3_ctau300\n",
      "PhiToPi0Pi0_mPhi0p3_ctau1000\n",
      "PhiToPi0Pi0_mPhi0p3_ctau300\n",
      "PhiToPiPlusPiMinus_mPhi0p3_ctau1000\n",
      "PhiToPiPlusPiMinus_mPhi0p3_ctau300\n",
      "PhiToPi0Pi0_mPhi0p3_ctau1000\n",
      "{'PhiToPiPlusPiMinus_mPhi0p3_ctau1000': 0.2187664792935923, 'PhiToPiPlusPiMinus_mPhi0p3_ctau300': 0.2866253188616016, 'PhiToPi0Pi0_mPhi0p3_ctau300': 0.28529357288386736, 'PhiToPi0Pi0_mPhi0p3_ctau1000': 0.21741096226634457}\n"
     ]
    }
   ],
   "source": [
    "MuonSystem = [\"CSC\", \"DT\"]\n",
    "the_cuts = {\"CSC\": \"posttrigger\", \"DT\": \"eventHLT_cut\"}\n",
    "eff = {}\n",
    "\n",
    "for i, MC in enumerate(MuonSystem):\n",
    "    filename = f'./Pickles/Output_SIGNAL_OLD_{MC}_v5.pickle'\n",
    "    the_cut = the_cuts[MC]\n",
    "    file = open(filename, 'rb')\n",
    "    data = pickle.load(file)\n",
    "    file.close()\n",
    "    datasets = [j for j in data.keys() if \"_cuts\" not in j if \"_vars\" not in j]\n",
    "    if i == 0:\n",
    "        for dataset in datasets:\n",
    "            eff[dataset] = 0\n",
    "    for dataset in datasets:\n",
    "        print(dataset)\n",
    "        r   = np.array(data[f\"{dataset}_vars\"][f\"gLLP_decay_vertex_r with {the_cut}\"])\n",
    "        z   = np.array(data[f\"{dataset}_vars\"][f\"gLLP_decay_vertex_z with {the_cut}\"])\n",
    "        eta = np.array(data[f\"{dataset}_vars\"][f\"gLLP_eta with {the_cut}\"])\n",
    "        if MC == \"DT\":\n",
    "            mask = (abs(eta) < 2.4) & (abs(z) < 1100) & (abs(z) > 400) & (r < 695.5)\n",
    "            eff[dataset] += sum(mask)/len(mask)\n",
    "            sigma_sel = np.sqrt(sum(mask))\n",
    "            sigma_all = np.sqrt(len(mask))\n",
    "        elif MC == \"CSC\":\n",
    "            mask = (abs(z) < 661.0) & (r > 200) & (r < 800)\n",
    "            eff[dataset] += sum(mask)/len(mask)\n",
    "            sigma_sel = np.sqrt(sum(mask))\n",
    "            sigma_all = np.sqrt(len(mask))\n",
    "        # plt.hist2d(r[mask], abs(z[mask]), bins=(30, 30))\n",
    "        # plt.xlabel(\"gLLP_decay_position_r [cm]\")\n",
    "        # plt.ylabel(\"gLLP_decay_position_z [cm]\")\n",
    "        # plt.xlim([0, 1000])\n",
    "        # plt.ylim([0, 700])\n",
    "        # plt.colorbar()\n",
    "        # plt.show()\n",
    "print(eff)"
   ]
  },
  {
   "cell_type": "code",
   "execution_count": null,
   "id": "32a716ff-96f2-4a0a-aa19-b2110f1d3cfa",
   "metadata": {},
   "outputs": [],
   "source": []
  },
  {
   "cell_type": "code",
   "execution_count": null,
   "id": "51fa021c-4ef1-4314-989d-003c37f00841",
   "metadata": {},
   "outputs": [],
   "source": []
  }
 ],
 "metadata": {
  "kernelspec": {
   "display_name": "Python 3 (ipykernel)",
   "language": "python",
   "name": "python3"
  },
  "language_info": {
   "codemirror_mode": {
    "name": "ipython",
    "version": 3
   },
   "file_extension": ".py",
   "mimetype": "text/x-python",
   "name": "python",
   "nbconvert_exporter": "python",
   "pygments_lexer": "ipython3",
   "version": "3.9.13"
  }
 },
 "nbformat": 4,
 "nbformat_minor": 5
}
