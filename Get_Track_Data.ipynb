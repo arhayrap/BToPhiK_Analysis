{
 "cells": [
  {
   "cell_type": "code",
   "execution_count": 1,
   "id": "12cca2c2-e075-4560-ac65-75ea305c4ac3",
   "metadata": {},
   "outputs": [
    {
     "name": "stdout",
     "output_type": "stream",
     "text": [
      "Welcome to JupyROOT 6.24/06\n"
     ]
    },
    {
     "name": "stderr",
     "output_type": "stream",
     "text": [
      "/uscms_data/d3/ahayrape/mamba/envs/anal/lib/python3.9/site-packages/numba/core/cpu.py:97: UserWarning: Numba extension module 'awkward.numba' failed to load due to 'FileNotFoundError([Errno 2] No such file or directory: '/uscms_data/d3/ahayrape/mamba/envs/anal/lib/python3.9/site-packages/numpy-1.23.2.dist-info/METADATA')'.\n",
      "  numba.core.entrypoints.init_all()\n"
     ]
    }
   ],
   "source": [
    "from Parameters import *"
   ]
  },
  {
   "cell_type": "code",
   "execution_count": 2,
   "id": "db6961e6-0331-459c-8992-3594b2ca629d",
   "metadata": {},
   "outputs": [],
   "source": [
    "MuonSystem = \"DT\"\n",
    "filename = f'./Pickles/Output_TRACKS_50_{MuonSystem}.pickle'\n",
    "file = open(filename, 'rb')\n",
    "data = pickle.load(file)\n",
    "file.close()\n",
    "datasets = [\n",
    "    'PhiToPi0Pi0_mPhi1p0_ctau1000',\n",
    "    'PhiToPi0Pi0_mPhi0p3_ctau300',\n",
    "    'PhiToPiPlusPiMinus_mPhi0p3_ctau300',\n",
    "    'PhiToPiPlusPiMinus_mPhi1p0_ctau300',\n",
    "    'PhiToPiPlusPiMinus_mPhi1p0_ctau1000',\n",
    "    'background',\n",
    "]"
   ]
  },
  {
   "cell_type": "code",
   "execution_count": null,
   "id": "8999447a-1d94-486a-9692-b9ba5fc74f41",
   "metadata": {},
   "outputs": [],
   "source": [
    "warnings.filterwarnings(\"ignore\")\n",
    "rt.gStyle.SetOptStat(0)\n",
    "a = 1\n",
    "variables   = [\"matched_track_pt_sum_0p2\", \"matched_track_pt_sum_0p3\", \"matched_track_pt_sum_0p4\", \"matched_track_pt_sum_0p5\"]\n",
    "x_axis_name = [\"Sum Track Pt_0p2\", \"Sum Track Pt_0p3\", \"Sum Track Pt_0p4\", \"Sum Track Pt_0p5\"]\n",
    "image_names = [\"track_sum_pt_0p2\", \"track_sum_pt_0p3\", \"track_sum_pt_0p4\", \"track_sum_pt_0p5\"]\n",
    "range_from  = [0, 0, 0, 0]\n",
    "range_to    = [300, 300, 300, 300]\n",
    "cuts        = {\n",
    "    \"CSC\": [\"-5 < cls_time < 12.5\", \"|cls_timeSpread| < 20\", \"|cls_eta| < 1.9\", \"cut_based_ID\"],\n",
    "    \"DT\" : [\"muon_veto\", \"mb1_veto\", \"rpc_time_cut\", \"mb1_adjacent\"]\n",
    "}\n",
    "the_cuts    = cuts[MuonSystem]\n",
    "\n",
    "bins = 30\n",
    "hist = list(np.zeros(len(datasets)))\n",
    "colors = [2,3,4,5,6,1]\n",
    "for k, the_cut in enumerate(the_cuts):\n",
    "    for j, variable in enumerate(variables):\n",
    "        name = f\"{the_cut}_{variable}\"\n",
    "        c = rt.TCanvas(name, name, 800, 600)\n",
    "        l = rt.TLegend(0.75, 0.8, 1, 1)\n",
    "        img = rt.TImage.Create()\n",
    "        for i, dset in enumerate(datasets):\n",
    "            # if i != 0: continue\n",
    "            var = np.array(data[f\"{dset}_vars\"][f\"{variable} with {the_cut}\"])\n",
    "            print(np.array(data[f\"{dset}_vars\"][f\"{variable} with {the_cut}\"]))\n",
    "            if \"pt\" in variable:\n",
    "                var[var == -777] = 0\n",
    "            hist[i] = rt.TH1D(f\"{name}_{i}\", f\"{name}_{i}\", bins, range_from[j],  range_to[j])\n",
    "            hist[i].SetXTitle(x_axis_name[j])\n",
    "            weights = np.ones(len(var)) / len(var)\n",
    "            rtnp.fill_hist(hist[i], var, weights = weights)\n",
    "            hist[i].SetLineColor(colors[i])\n",
    "            hist[i].SetLineWidth(2)\n",
    "            hist[i].Draw(\"HIST same\")\n",
    "            l.AddEntry(hist[i], dset)\n",
    "        c.SetLogy()\n",
    "        l.Draw(\"same\")\n",
    "        c.Draw()\n",
    "        img.FromPad(c)\n",
    "        img.WriteImage(f\"./Track_data/{MuonSystem}/{name}.png\")\n",
    "        c.Close()\n",
    "    print()"
   ]
  },
  {
   "cell_type": "markdown",
   "id": "ba57d544-eeee-4c16-90f1-92a7f23d0f48",
   "metadata": {},
   "source": [
    "<h1>ROC curve</h1>"
   ]
  },
  {
   "cell_type": "code",
   "execution_count": 12,
   "id": "87aa3580-fec8-49ed-94f9-dbe742c95501",
   "metadata": {},
   "outputs": [],
   "source": [
    "cuts        = {\n",
    "    \"CSC\": \"cut_based_ID\",\n",
    "    \"DT\" : \"mb1_adjacent\"\n",
    "}\n",
    "the_cut     = cuts[MuonSystem]\n",
    "variable    = \"matched_track_pt_sum_0p5\"\n",
    "\n",
    "eff = {}\n",
    "eff_data = []\n",
    "for i, dset in enumerate(datasets):\n",
    "    if dset != \"background\":\n",
    "        eff[dset] = []\n",
    "        var = np.array(data[f\"{dset}_vars\"][f\"{variable} with {the_cut}\"])\n",
    "        for j in range(0, 20):\n",
    "            eff[dset].append(len(var[var < j+1]) / len(var))\n",
    "    else:\n",
    "        var = np.array(data[f\"{dset}_vars\"][f\"{variable} with {the_cut}\"])\n",
    "        for j in range(0, 20):\n",
    "            eff_data.append(len(var[var < j+1]) / len(var))\n"
   ]
  },
  {
   "cell_type": "code",
   "execution_count": 13,
   "id": "2b348c5e-e24d-4480-82a3-9fa926845c45",
   "metadata": {},
   "outputs": [
    {
     "name": "stderr",
     "output_type": "stream",
     "text": [
      "Warning in <TCanvas::Constructor>: Deleting canvas with same name: ROC curve\n"
     ]
    },
    {
     "data": {
      "image/png": "[encoded data removed]",
      "text/plain": [
       "<IPython.core.display.Image object>"
      ]
     },
     "metadata": {},
     "output_type": "display_data"
    }
   ],
   "source": [
    "c = rt.TCanvas(\"ROC curve\", \"ROC curve\", 800, 600)\n",
    "l = rt.TLegend(0.7, 0.8, 1, 1)\n",
    "colors = [2,3,4,5,6,1]\n",
    "gr = []\n",
    "datasets = [\n",
    "    'PhiToPi0Pi0_mPhi1p0_ctau1000',\n",
    "    'PhiToPi0Pi0_mPhi0p3_ctau300',\n",
    "    'PhiToPiPlusPiMinus_mPhi0p3_ctau300',\n",
    "    'PhiToPiPlusPiMinus_mPhi1p0_ctau300',\n",
    "    'PhiToPiPlusPiMinus_mPhi1p0_ctau1000',\n",
    "    'background',\n",
    "]\n",
    "mg = rt.TMultiGraph()\n",
    "\n",
    "for i, dset in enumerate(datasets):\n",
    "    if dset != \"background\":\n",
    "        e  = eff[dset]\n",
    "        gr.append(rt.TGraph(len(eff_data), np.array(eff_data), np.array(eff[dset])))\n",
    "        # gr[i].GetXaxis().SetRangeUser(0, 1)\n",
    "        gr[i].SetLineColor(colors[i])\n",
    "        gr[i].SetLineWidth(2)\n",
    "        gr[i].SetMarkerColor(colors[i])\n",
    "        gr[i].SetMarkerStyle(8)\n",
    "        mg.Add(gr[i])\n",
    "        l.AddEntry(gr[i], dset)\n",
    "        # if i == 0:\n",
    "        #     gr[i].Draw(\"ALP\")\n",
    "        # else:\n",
    "        #     gr[i].Draw(\"ALP same\")\n",
    "mg.GetXaxis().SetTitle(\"Data\")\n",
    "mg.GetYaxis().SetTitle(\"Signal\")\n",
    "mg.GetYaxis().SetRangeUser(0, 1)\n",
    "mg.Draw(\"APL\")\n",
    "#c.SetLogy()\n",
    "#c.SetLogx()\n",
    "l.Draw(\"same\")\n",
    "c.Draw()    "
   ]
  },
  {
   "cell_type": "code",
   "execution_count": null,
   "id": "04d214bf-f207-4565-ab0a-813e010bad06",
   "metadata": {},
   "outputs": [],
   "source": []
  }
 ],
 "metadata": {
  "kernelspec": {
   "display_name": "Python 3 (ipykernel)",
   "language": "python",
   "name": "python3"
  },
  "language_info": {
   "codemirror_mode": {
    "name": "ipython",
    "version": 3
   },
   "file_extension": ".py",
   "mimetype": "text/x-python",
   "name": "python",
   "nbconvert_exporter": "python",
   "pygments_lexer": "ipython3",
   "version": "3.9.13"
  }
 },
 "nbformat": 4,
 "nbformat_minor": 5
}
