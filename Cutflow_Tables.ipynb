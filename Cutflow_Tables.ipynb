{
 "cells": [
  {
   "cell_type": "code",
   "execution_count": 1,
   "id": "3c808871-8e66-4c81-a5a6-3f00ceb77d20",
   "metadata": {},
   "outputs": [
    {
     "name": "stdout",
     "output_type": "stream",
     "text": [
      "Welcome to JupyROOT 6.24/06\n"
     ]
    },
    {
     "name": "stderr",
     "output_type": "stream",
     "text": [
      "/uscms_data/d3/ahayrape/mamba/envs/anal/lib/python3.9/site-packages/numba/core/cpu.py:97: UserWarning: Numba extension module 'awkward.numba' failed to load due to 'FileNotFoundError([Errno 2] No such file or directory: '/uscms_data/d3/ahayrape/mamba/envs/anal/lib/python3.9/site-packages/numpy-1.23.2.dist-info/METADATA')'.\n",
      "  numba.core.entrypoints.init_all()\n"
     ]
    }
   ],
   "source": [
    "from Parameters import *"
   ]
  },
  {
   "cell_type": "code",
   "execution_count": 2,
   "id": "1e28d035-a7a3-478c-b4ff-9038f008c87c",
   "metadata": {},
   "outputs": [],
   "source": [
    "MuonSystem = \"DT\" # \"CSC\"\n",
    "denominator = \"mb1_adjacent\" # \"cut_based_ID\"\n",
    "\n",
    "# file = open(f\"Output_{MuonSystem}.pickle\", \"rb\")\n",
    "file = open(f'./Pickles/Output_TRACKS_50_{MuonSystem}.pickle', \"rb\")\n",
    "\n",
    "data = pickle.load(file)\n",
    "\n",
    "file.close()"
   ]
  },
  {
   "cell_type": "code",
   "execution_count": 4,
   "id": "ebf0f99f-2208-4946-aa92-63f57b6dc560",
   "metadata": {},
   "outputs": [],
   "source": [
    "import pandas as pd\n",
    "denominator = \"muonSF with eventHLT_cut\" # \"muonSF with posttrigger\"\n",
    "datasets = [i for i in data.keys() if \"_cuts\" not in i if \"_vars\" not in i]\n",
    "for d in range(len(datasets)):\n",
    "    output_folder = f\"Cutflow_tables_{MuonSystem}\"\n",
    "    os.system(f\"mkdir -p {output_folder}\")\n",
    "    dataset  = datasets[d]\n",
    "    values   = list(data[f\"{dataset}_vars\"].values())\n",
    "    keys     = [k for k in list(data[f\"{dataset}_vars\"].keys()) if k.split(\" with \")[0] == \"muonSF\"]\n",
    "    cf_keys  = [k.split(\" with \")[1] for k in keys]\n",
    "    values   = [data[f\"{dataset}_vars\"][k] for k in keys]\n",
    "    n_events = [sum(v) for v in values]\n",
    "    eff      = []\n",
    "    cum_eff  = []\n",
    "    for j in range(len(keys)):\n",
    "        if j == 0:\n",
    "            eff.append(\"\")\n",
    "        else:\n",
    "            eff.append(100 * n_events[j] / n_events[j-1])\n",
    "        ind = keys.index(denominator)\n",
    "        c = 100 * n_events[j] / n_events[ind]\n",
    "        if j < ind:\n",
    "            c = \"\"\n",
    "        cum_eff.append(c)\n",
    "\n",
    "    output_dataset = {}\n",
    "    output_dataset = {\"Cuts\" : cf_keys, \"Number of events\": n_events, \"Cumulative efficiency\": cum_eff, \"Efficiency\": eff}\n",
    "    df = pd.DataFrame(output_dataset)\n",
    "    df.to_csv(f\"./{output_folder}/{dataset}.csv\")"
   ]
  },
  {
   "cell_type": "code",
   "execution_count": null,
   "id": "7ba3ebdb-8837-42dd-804f-068c4485c46c",
   "metadata": {},
   "outputs": [],
   "source": []
  }
 ],
 "metadata": {
  "kernelspec": {
   "display_name": "Python 3 (ipykernel)",
   "language": "python",
   "name": "python3"
  },
  "language_info": {
   "codemirror_mode": {
    "name": "ipython",
    "version": 3
   },
   "file_extension": ".py",
   "mimetype": "text/x-python",
   "name": "python",
   "nbconvert_exporter": "python",
   "pygments_lexer": "ipython3",
   "version": "3.9.13"
  }
 },
 "nbformat": 4,
 "nbformat_minor": 5
}
