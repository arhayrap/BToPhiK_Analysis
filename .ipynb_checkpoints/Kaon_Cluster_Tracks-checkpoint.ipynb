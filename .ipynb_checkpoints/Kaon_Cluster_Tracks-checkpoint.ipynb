{
 "cells": [
  {
   "cell_type": "code",
   "execution_count": 2,
   "id": "45d2f7f7-dcf2-468f-a998-42c243e63b9d",
   "metadata": {},
   "outputs": [
    {
     "name": "stdout",
     "output_type": "stream",
     "text": [
      "Welcome to JupyROOT 6.24/06\n"
     ]
    },
    {
     "name": "stderr",
     "output_type": "stream",
     "text": [
      "/uscms_data/d3/ahayrape/mamba/envs/anal/lib/python3.9/site-packages/numba/core/cpu.py:97: UserWarning: Numba extension module 'awkward.numba' failed to load due to 'FileNotFoundError([Errno 2] No such file or directory: '/uscms_data/d3/ahayrape/mamba/envs/anal/lib/python3.9/site-packages/numpy-1.23.2.dist-info/METADATA')'.\n",
      "  numba.core.entrypoints.init_all()\n"
     ]
    }
   ],
   "source": [
    "from Parameters import *"
   ]
  },
  {
   "cell_type": "code",
   "execution_count": 3,
   "id": "31b77559-3d7c-4f5f-bc62-bacb1d064018",
   "metadata": {},
   "outputs": [],
   "source": [
    "MuonSystem = \"DT\"\n",
    "filename = f'./Pickles/Output_Signal_Kaons_{MuonSystem}.pickle'\n",
    "file = open(filename, 'rb')\n",
    "data = pickle.load(file)\n",
    "file.close()\n",
    "datasets = [\n",
    "    'PhiToPi0Pi0_mPhi1p0_ctau1000',\n",
    "    'PhiToPi0Pi0_mPhi0p3_ctau300',\n",
    "    'PhiToPiPlusPiMinus_mPhi0p3_ctau300',\n",
    "    'PhiToPiPlusPiMinus_mPhi1p0_ctau300',\n",
    "    'PhiToPiPlusPiMinus_mPhi1p0_ctau1000',\n",
    "]"
   ]
  },
  {
   "cell_type": "code",
   "execution_count": 4,
   "id": "23bb92d5-1956-4257-b0d8-12f15c3c1f6a",
   "metadata": {},
   "outputs": [
    {
     "data": {
      "text/plain": [
       "207450"
      ]
     },
     "execution_count": 4,
     "metadata": {},
     "output_type": "execute_result"
    }
   ],
   "source": [
    "len(data[\"PhiToPi0Pi0_mPhi1p0_ctau1000_vars\"][\"matched_track_size_0p5 with eventHLT_cut\"])"
   ]
  },
  {
   "cell_type": "code",
   "execution_count": 6,
   "id": "81a3feb2-b365-4c39-8b01-27722225cf58",
   "metadata": {},
   "outputs": [],
   "source": [
    "warnings.filterwarnings(\"ignore\")\n",
    "rt.gStyle.SetOptStat(0)\n",
    "a = 1\n",
    "variables   = [\"kaonE\", \"kaonPt\", \"kaonEta\", \"kaonPhi\", \"RechitCluster_kaon_deltaR\", \"RechitCluster_llp_deltaR\", \"Kaon_gllp_deltaR\"]\n",
    "x_axis_name = [\"kaonE\", \"kaonPt\", \"kaonEta\", \"kaonPhi\", \"RechitCluster_kaon_deltaR\", \"RechitCluster_llp_deltaR\", \"Kaon_gllp_deltaR\"]\n",
    "image_names = [\"kaonE\", \"kaonPt\", \"kaonEta\", \"kaonPhi\", \"RechitCluster_kaon_deltaR\", \"RechitCluster_llp_deltaR\", \"Kaon_gllp_deltaR\"]\n",
    "range_from  = [      0,       0,         -4,        -4,                           0,                          0,                  0]\n",
    "range_to    = [    100,     100,          4,         4,                           2,                          2,                  2]\n",
    "cuts        = {\n",
    "    \"CSC\": [\"-5 < cls_time < 12.5\", \"|cls_timeSpread| < 20\", \"|cls_eta| < 1.9\", \"cut_based_ID\"],\n",
    "    \"DT\" : [\"muon_veto\", \"mb1_veto\", \"rpc_time_cut\", \"mb1_adjacent\"]\n",
    "}\n",
    "the_cuts    = cuts[MuonSystem]\n",
    "\n",
    "bins = 30\n",
    "hist = list(np.zeros(len(datasets)))\n",
    "colors = [2,3,4,5,6,1]\n",
    "for k, the_cut in enumerate(the_cuts):\n",
    "    for j, variable in enumerate(variables):\n",
    "        name = f\"{the_cut}_{variable}\"\n",
    "        c = rt.TCanvas(name, name, 800, 600)\n",
    "        l = rt.TLegend(0.75, 0.8, 1, 1)\n",
    "        img = rt.TImage.Create()\n",
    "        for i, dset in enumerate(datasets):\n",
    "            # if i != 0: continue\n",
    "            cls_size = np.array(data[f'{dset}_vars'][f\"dtRechitClusterSize with {the_cut}\"])\n",
    "            var = np.array(data[f\"{dset}_vars\"][f\"{variable} with {the_cut}\"])[cls_size >= 150]\n",
    "            # print(np.array(data[f\"{dset}_vars\"][f\"{variable} with {the_cut}\"]))\n",
    "            if \"pt\" in variable:\n",
    "                var[var == -777] = 0\n",
    "            hist[i] = rt.TH1D(f\"{name}_{i}\", f\"{name}_{i}\", bins, range_from[j],  range_to[j])\n",
    "            hist[i].SetXTitle(x_axis_name[j])\n",
    "            weights = np.ones(len(var)) / len(var)\n",
    "            rtnp.fill_hist(hist[i], var, weights = weights)\n",
    "            hist[i].SetLineColor(colors[i])\n",
    "            hist[i].SetLineWidth(2)\n",
    "            hist[i].Draw(\"HIST same\")\n",
    "            l.AddEntry(hist[i], dset)\n",
    "        c.SetLogy()\n",
    "        l.Draw(\"same\")\n",
    "        c.Draw()\n",
    "        img.FromPad(c)\n",
    "        img.WriteImage(f\"./Kaon_data/{MuonSystem}/{name}.png\")\n",
    "        c.Close()"
   ]
  },
  {
   "cell_type": "code",
   "execution_count": null,
   "id": "5ddf574c-4e3e-49a6-bf71-6a8982bf43d2",
   "metadata": {},
   "outputs": [],
   "source": []
  },
  {
   "cell_type": "code",
   "execution_count": null,
   "id": "229c2767-426d-4e79-ba09-3b27ca8dc144",
   "metadata": {},
   "outputs": [],
   "source": []
  }
 ],
 "metadata": {
  "kernelspec": {
   "display_name": "Python 3 (ipykernel)",
   "language": "python",
   "name": "python3"
  },
  "language_info": {
   "codemirror_mode": {
    "name": "ipython",
    "version": 3
   },
   "file_extension": ".py",
   "mimetype": "text/x-python",
   "name": "python",
   "nbconvert_exporter": "python",
   "pygments_lexer": "ipython3",
   "version": "3.9.13"
  }
 },
 "nbformat": 4,
 "nbformat_minor": 5
}
