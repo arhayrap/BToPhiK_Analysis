{
 "cells": [
  {
   "cell_type": "code",
   "execution_count": 2,
   "id": "44497e6f-11cc-4f1d-84b8-5f5f5aafc869",
   "metadata": {},
   "outputs": [
    {
     "name": "stdout",
     "output_type": "stream",
     "text": [
      "Welcome to JupyROOT 6.24/06\n"
     ]
    },
    {
     "name": "stderr",
     "output_type": "stream",
     "text": [
      "/uscms_data/d3/ahayrape/mamba/envs/anal/lib/python3.9/site-packages/numba/core/cpu.py:97: UserWarning: Numba extension module 'awkward.numba' failed to load due to 'FileNotFoundError([Errno 2] No such file or directory: '/uscms_data/d3/ahayrape/mamba/envs/anal/lib/python3.9/site-packages/numpy-1.23.2.dist-info/METADATA')'.\n",
      "  numba.core.entrypoints.init_all()\n"
     ]
    }
   ],
   "source": [
    "from Parameters import * "
   ]
  },
  {
   "cell_type": "code",
   "execution_count": 3,
   "id": "d8578853-a671-4533-860f-b59446151d4d",
   "metadata": {},
   "outputs": [],
   "source": [
    "prefix = 'root://cmseos.fnal.gov//store/user/ahayrape/'\n",
    "fileset = {\n",
    "    'PhiToPi0Pi0_mPhi0p3_ctau300'        :[prefix + 'PhiToPi0Pi0_mPhi0p3_ctau300.root'],\n",
    "    'PhiToPi0Pi0_mPhi1p0_ctau1000'       :[prefix + 'PhiToPi0Pi0_mPhi1p0_ctau1000.root'],\n",
    "    'PhiToPiPlusPiMinus_mPhi0p3_ctau300' :[prefix + 'PhiToPiPlusPiMinus_mPhi0p3_ctau300.root'],\n",
    "    'PhiToPiPlusPiMinus_mPhi1p0_ctau1000':[prefix + 'PhiToPiPlusPiMinus_mPhi1p0_ctau1000.root'],\n",
    "    'PhiToPiPlusPiMinus_mPhi1p0_ctau300' :[prefix + 'PhiToPiPlusPiMinus_mPhi1p0_ctau300.root'],\n",
    "}\n",
    "fileset['background'] = [prefix + '/BigNtupler/Background_tracks.root']"
   ]
  },
  {
   "cell_type": "code",
   "execution_count": null,
   "id": "1d08cd0f-4400-40fa-98cb-478b425e1bfc",
   "metadata": {},
   "outputs": [],
   "source": []
  },
  {
   "cell_type": "code",
   "execution_count": null,
   "id": "c0614443-e11f-4dae-8afd-c855cd97bd32",
   "metadata": {},
   "outputs": [],
   "source": []
  }
 ],
 "metadata": {
  "kernelspec": {
   "display_name": "Python 3 (ipykernel)",
   "language": "python",
   "name": "python3"
  },
  "language_info": {
   "codemirror_mode": {
    "name": "ipython",
    "version": 3
   },
   "file_extension": ".py",
   "mimetype": "text/x-python",
   "name": "python",
   "nbconvert_exporter": "python",
   "pygments_lexer": "ipython3",
   "version": "3.9.13"
  }
 },
 "nbformat": 4,
 "nbformat_minor": 5
}
