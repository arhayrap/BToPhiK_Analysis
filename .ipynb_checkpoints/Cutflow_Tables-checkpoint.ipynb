{
 "cells": [
  {
   "cell_type": "code",
   "execution_count": 1,
   "id": "3c808871-8e66-4c81-a5a6-3f00ceb77d20",
   "metadata": {},
   "outputs": [
    {
     "name": "stdout",
     "output_type": "stream",
     "text": [
      "Welcome to JupyROOT 6.24/06\n"
     ]
    },
    {
     "name": "stderr",
     "output_type": "stream",
     "text": [
      "/uscms_data/d3/ahayrape/mamba/envs/anal/lib/python3.9/site-packages/numba/core/cpu.py:97: UserWarning: Numba extension module 'awkward.numba' failed to load due to 'FileNotFoundError([Errno 2] No such file or directory: '/uscms_data/d3/ahayrape/mamba/envs/anal/lib/python3.9/site-packages/numpy-1.23.2.dist-info/METADATA')'.\n",
      "  numba.core.entrypoints.init_all()\n"
     ]
    }
   ],
   "source": [
    "from Parameters import *"
   ]
  },
  {
   "cell_type": "code",
   "execution_count": 8,
   "id": "1e28d035-a7a3-478c-b4ff-9038f008c87c",
   "metadata": {},
   "outputs": [],
   "source": [
    "MuonSystem = \"DT\" # \"CSC\"\n",
    "denominator = \"mb1_adjacent\" # \"cut_based_ID\"\n",
    "\n",
    "filename = f'./Pickles/Output_SIGNAL_Kaons_1_{MuonSystem}.pickle' # or other pickle filename\n",
    "file = open(filename, 'rb')\n",
    "data = pickle.load(file)\n",
    "file.close()"
   ]
  },
  {
   "cell_type": "code",
   "execution_count": 9,
   "id": "ebf0f99f-2208-4946-aa92-63f57b6dc560",
   "metadata": {},
   "outputs": [
    {
     "name": "stdout",
     "output_type": "stream",
     "text": [
      "PhiToPi0Pi0_mPhi0p3_ctau300\n",
      "0       pretrigger       1541579\n",
      "1       |muonId| == 13       1541579\n",
      "2       |muonEta| < 1.5       1338458\n",
      "3       muonPt > 7       554984\n",
      "4       muonHLTReq       106684.44485323317\n",
      "5       muonQual >= 2^25       107761.52397164516\n",
      "6       muonLeadPtReq       108283.71352769434\n",
      "7       eventHLT_cut       108218.38352715969\n",
      "8       llp_decayed_in_dt       64201.39931207895\n",
      "9       N clusters >= 1       9217.772047549486\n",
      "10       cls_llp_deltaR_cut       5038.937025114894\n",
      "11       cls_trigg_muon_deltaR_cut       4299.148021519184\n",
      "12       rpc_matching       4260.557021230459\n",
      "13       muon_veto       3987.969019755721\n",
      "14       mb1_veto       1215.3850057721138\n",
      "15       rpc_time_cut       1190.3630057871342\n",
      "16       mb1_adjacent       1139.0860054939985\n",
      "17       cluster_size_100       362.31700195372105\n",
      "\n"
     ]
    }
   ],
   "source": [
    "import pandas as pd\n",
    "matplotlib.rcParams.update({'font.size': 9})\n",
    "\n",
    "denominator    = {\n",
    "    \"DT\" : \"eventHLT_cut\",\n",
    "    \"CSC\": \"posttrigger\"\n",
    "}\n",
    "lumi = 59700.0\n",
    "datasets = [i for i in data.keys() if \"_cuts\" not in i if \"_vars\" not in i]\n",
    "for i in range(len(datasets)):\n",
    "    dataset = datasets[i]\n",
    "    print(dataset)\n",
    "    keys = [i.split(\"numEvents_\")[1].split(\"_SF\")[0] for i in list(data[dataset].keys()) if i.startswith('numEvents_') and i.endswith(\"_SF\")] # Scale factor sum as denominator\n",
    "    # keys = [i.split(\"numEvents_\")[1].split(\"_SF\")[0] for i in list(data[dataset].keys()) if i.startswith('numEvents_') and not i.endswith(\"_SF\")] # Event length as denominator\n",
    "    vals = list(data[dataset].values())\n",
    "    k = list(data[dataset].keys())\n",
    "    n_events = [vals[i] for i in range(len(vals)) if k[i].startswith('numEvents_') and k[i].endswith('_SF')] # Scale factor sum as denominator\n",
    "    # n_events = [vals[i] for i in range(len(vals)) if k[i].startswith('numEvents_') and not k[i].endswith('_SF')] # Event length as denominator\n",
    "    eff      = []\n",
    "    cum_eff  = []\n",
    "    for j in range(len(keys)):\n",
    "        if j == 0:\n",
    "            eff.append(\"\")\n",
    "        else:\n",
    "            eff.append(100 * n_events[j] / n_events[j-1])\n",
    "        ind = keys.index(denominator[MuonSystem])\n",
    "        c = 100 * n_events[j] / n_events[ind]\n",
    "        if j < ind:\n",
    "            c = \"\"\n",
    "        cum_eff.append(c)\n",
    "        print(j, \"     \", keys[j], \"     \", n_events[j])\n",
    "    print()\n",
    "    output_dataset = {\"Cuts\" : keys, \"Number of events\": n_events, \"Cumulative efficiency\": cum_eff, \"Efficiency\": eff}\n",
    "    df = pd.DataFrame(output_dataset)\n",
    "    df.to_csv(f\"./Cutflow_tables/{MuonSystem}/{dataset}.csv\")"
   ]
  },
  {
   "cell_type": "code",
   "execution_count": null,
   "id": "7ba3ebdb-8837-42dd-804f-068c4485c46c",
   "metadata": {},
   "outputs": [],
   "source": []
  }
 ],
 "metadata": {
  "kernelspec": {
   "display_name": "Python 3 (ipykernel)",
   "language": "python",
   "name": "python3"
  },
  "language_info": {
   "codemirror_mode": {
    "name": "ipython",
    "version": 3
   },
   "file_extension": ".py",
   "mimetype": "text/x-python",
   "name": "python",
   "nbconvert_exporter": "python",
   "pygments_lexer": "ipython3",
   "version": "3.9.13"
  }
 },
 "nbformat": 4,
 "nbformat_minor": 5
}
